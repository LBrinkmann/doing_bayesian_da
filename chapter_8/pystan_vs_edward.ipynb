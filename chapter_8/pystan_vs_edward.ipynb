{
 "cells": [
  {
   "cell_type": "code",
   "execution_count": 7,
   "metadata": {},
   "outputs": [],
   "source": [
    "import pystan as st\n",
    "import pickle"
   ]
  },
  {
   "cell_type": "markdown",
   "metadata": {},
   "source": [
    "# Model 8.2 in Stan"
   ]
  },
  {
   "cell_type": "code",
   "execution_count": 9,
   "metadata": {},
   "outputs": [
    {
     "name": "stderr",
     "output_type": "stream",
     "text": [
      "INFO:pystan:COMPILING THE C++ CODE FOR MODEL anon_model_2b1fc2ba37ac1d59cb69bdd0bcab7452 NOW.\n"
     ]
    }
   ],
   "source": [
    "model_code = \"\"\"\n",
    "data {\n",
    "    int<lower=0> N;\n",
    "    int y[N];\n",
    "}\n",
    "parameters {\n",
    "    real<lower=0,upper=1> theta;\n",
    "}\n",
    "model {\n",
    "    theta ~ beta(1,1) ;\n",
    "    y ~ bernoulli(theta) ;\n",
    "}\n",
    "\"\"\"\n",
    "model = st.StanModel(model_code=model_code)"
   ]
  },
  {
   "cell_type": "code",
   "execution_count": 14,
   "metadata": {},
   "outputs": [],
   "source": [
    "N = 50\n",
    "z = 10\n",
    "data = dict(N=N, y=[1]*z + [0]*(N-z))\n",
    "fit = model.sampling(data=data, iter=1000, warmup=200, chains=3)"
   ]
  },
  {
   "cell_type": "code",
   "execution_count": 24,
   "metadata": {},
   "outputs": [
    {
     "data": {
      "text/plain": [
       "array([-26.86505305, -27.21142458, -26.8617048 , ..., -26.86612623,\n",
       "       -26.83618903, -28.39039841])"
      ]
     },
     "execution_count": 24,
     "metadata": {},
     "output_type": "execute_result"
    }
   ],
   "source": [
    "fit.extract()['lp__']"
   ]
  },
  {
   "cell_type": "code",
   "execution_count": 37,
   "metadata": {},
   "outputs": [
    {
     "name": "stderr",
     "output_type": "stream",
     "text": [
      "/Users/lbrinkm/projects/doing_bayesian_da/.venv/lib/python3.6/site-packages/ipykernel_launcher.py:1: DeprecationWarning: The 'warn' function is deprecated, use 'warning' instead\n",
      "  \"\"\"Entry point for launching an IPython kernel.\n",
      "WARNING:root:`dtypes` ignored when `permuted` is False.\n"
     ]
    },
    {
     "data": {
      "text/plain": [
       "(800, 3, 2)"
      ]
     },
     "execution_count": 37,
     "metadata": {},
     "output_type": "execute_result"
    }
   ],
   "source": [
    "fit.extract(permuted=False, inc_warmup=False).shape"
   ]
  },
  {
   "cell_type": "code",
   "execution_count": null,
   "metadata": {},
   "outputs": [],
   "source": [
    "\n",
    "with open('model.pkl', 'wb') as f:\n",
    "    pickle.dump(model, f, protocol=pickle.HIGHEST_PROTOCOL)\n",
    "\n",
    "# load it at some future point\n",
    "with open('model.pkl', 'rb') as f:\n",
    "    model = pickle.load(f)\n",
    "\n",
    "# run with different data\n",
    "fit = model.sampling(data=dict(N=5, y=[1, 1, 0, 1, 0]))"
   ]
  }
 ],
 "metadata": {
  "kernelspec": {
   "display_name": "Python 3",
   "language": "python",
   "name": "python3"
  },
  "language_info": {
   "codemirror_mode": {
    "name": "ipython",
    "version": 3
   },
   "file_extension": ".py",
   "mimetype": "text/x-python",
   "name": "python",
   "nbconvert_exporter": "python",
   "pygments_lexer": "ipython3",
   "version": "3.6.1"
  }
 },
 "nbformat": 4,
 "nbformat_minor": 2
}
